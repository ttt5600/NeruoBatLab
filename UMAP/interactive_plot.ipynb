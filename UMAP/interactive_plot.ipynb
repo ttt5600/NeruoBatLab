{
 "cells": [
  {
   "cell_type": "code",
   "execution_count": 59,
   "metadata": {},
   "outputs": [],
   "source": [
    "%matplotlib inline\n",
    "import scipy.io\n",
    "import numpy as np\n",
    "import math\n",
    "import os\n",
    "import csv\n",
    "import umap\n",
    "import sklearn.datasets\n",
    "import pandas as pd\n",
    "import numpy as np\n",
    "import umap\n",
    "import re\n",
    "import umap.plot\n",
    "import scipy.io\n",
    "import matplotlib.pyplot as plt\n",
    "import numpy as np\n",
    "import colorsys\n",
    "import matplotlib.colors as pltcolors\n",
    "import plotly.graph_objects as go\n",
    "from IPython.display import clear_output\n",
    "from bokeh.models import Button\n",
    "from bokeh.io import curdoc\n",
    "from soundsig.sound import WavFile, BioSound\n",
    "from IPython.display import Audio\n",
    "from soundsig.signal import bandpass_filter\n",
    "from soundsig.sound import spectrogram, plot_spectrogram, log_transform, play_sound_array\n",
    "from ipywidgets import Output"
   ]
  },
  {
   "cell_type": "code",
   "execution_count": 60,
   "metadata": {},
   "outputs": [],
   "source": [
    "def load_mat(filename):\n",
    "    \"\"\"\n",
    "    This function should be called instead of scipy.io.loadmat\n",
    "    as it can recover python dictionaries from mat files.\n",
    "    \"\"\"\n",
    "\n",
    "    def _check_keys(d):\n",
    "        \"\"\"\n",
    "        Checks if entries in dictionary are mat-objects. If yes\n",
    "        todict is called to change them to nested dictionaries\n",
    "        \"\"\"\n",
    "        for key in d:\n",
    "            if isinstance(d[key], scipy.io.matlab.mio5_params.mat_struct):\n",
    "                d[key] = _todict(d[key])\n",
    "        return d\n",
    "\n",
    "    def _todict(matobj):\n",
    "        \"\"\"\n",
    "        A recursive function which constructs from matobjects nested dictionaries\n",
    "        \"\"\"\n",
    "        nested_d = {}\n",
    "        for strg in matobj._fieldnames:\n",
    "            elem = matobj.__dict__[strg]\n",
    "            if isinstance(elem, scipy.io.matlab.mio5_params.mat_struct):\n",
    "                nested_d[strg] = _todict(elem)\n",
    "            else:\n",
    "                nested_d[strg] = elem\n",
    "        return nested_d\n",
    "\n",
    "    data = scipy.io.loadmat(filename, struct_as_record=False, squeeze_me=True)\n",
    "    return _check_keys(data)\n",
    "\n",
    "def open_files(paths):\n",
    "    mat_objs = []\n",
    "    for path in paths:\n",
    "        for file in os.listdir(path):\n",
    "            if file.endswith(\"200.mat\"):\n",
    "                mat_objs.append(load_mat(path + \"/\" + str(file)))\n",
    "    return mat_objs\n",
    "\n",
    "def collect_data_mps(mat_objs):\n",
    "    collected_data = []\n",
    "    wf, wt = mat_objs[0]['BioSoundCalls'][0][0].wf, mat_objs[0]['BioSoundCalls'][0][0].wt\n",
    "    w0 = next(x[0] for x in enumerate(wf) if x[1] > 0)\n",
    "    w1 = next(x[0] for x in enumerate(wf) if x[1] > 0.0025)\n",
    "    t0 = next(x[0] for x in enumerate(wt) if x[1] > -200)\n",
    "    t1 = next(x[0] for x in enumerate(wt) if x[1] > 200)\n",
    "    for mat_obj in mat_objs:\n",
    "        if 'BioSoundCalls' not in mat_obj.keys():\n",
    "            continue\n",
    "        specs = mat_obj['BioSoundCalls']\n",
    "        if len(specs) > 0 and not isinstance(specs[0], np.ndarray):\n",
    "            specs = [specs]\n",
    "        for row in specs:\n",
    "            try:\n",
    "                collected_data.append(row[1].mps[w0:w1, t0:t1].flatten())\n",
    "            except:\n",
    "                continue\n",
    "    print(\"---- Collected MPS sounds ----\")\n",
    "    return l2_norm(np.vstack(collected_data))\n",
    "\n",
    "def collect(mat_objs):\n",
    "    collected_ids = []\n",
    "    collected_data = []\n",
    "    wf, wt = mat_objs[0]['BioSoundCalls'][0][1].wf, mat_objs[0]['BioSoundCalls'][0][1].wt\n",
    "    w0 = next(x[0] for x in enumerate(wf) if x[1] > 0)\n",
    "    w1 = next(x[0] for x in enumerate(wf) if x[1] > 0.0025)\n",
    "    t0 = next(x[0] for x in enumerate(wt) if x[1] > -200)\n",
    "    t1 = next(x[0] for x in enumerate(wt) if x[1] > 200)\n",
    "    for mat_obj in mat_objs:\n",
    "        if 'BioSoundFilenames' not in mat_obj.keys() or 'BioSoundCalls' not in mat_obj.keys():\n",
    "            continue\n",
    "        \n",
    "        filenames = mat_obj['BioSoundFilenames']\n",
    "        if len(filenames) > 0 and filenames.ndim == 1:\n",
    "            filenames = [filenames]\n",
    "        \n",
    "        specs = mat_obj['BioSoundCalls']\n",
    "        if len(specs) > 0 and not isinstance(specs[0], np.ndarray):\n",
    "            specs = [specs]\n",
    "        \n",
    "        for row_id, row in zip(filenames, specs):\n",
    "            name = row_id[1]\n",
    "#             print(row[1].mps[w0:w1, t0:t1].flatten())\n",
    "            try:\n",
    "                collected_data.append(row[1].mps[w0:w1, t0:t1].flatten())\n",
    "                x = re.search(\"Bat\\d*\", name)\n",
    "            except (TypeError, AttributeError):\n",
    "                continue\n",
    "            name = name[x.start() + 3:x.end()]\n",
    "            if type(name) == str:\n",
    "                collected_ids.append(name)\n",
    "    \n",
    "    print(\"---- Collected Mat_objects ----\")\n",
    "    y_set = set(collected_ids)\n",
    "    hashed_y = {}\n",
    "    for i, val in enumerate(y_set):\n",
    "        hashed_y[val] = i\n",
    "    hashed = lambda x: int(hashed_y[x])\n",
    "    return np.array(list(y_set)), np.array(collected_ids), l2_norm(np.vstack(collected_data))"
   ]
  },
  {
   "cell_type": "code",
   "execution_count": 61,
   "metadata": {},
   "outputs": [],
   "source": [
    "def l2_norm(mats):\n",
    "    return mats / np.linalg.norm(mats, axis=0)\n",
    "\n",
    "def avged_norm(mats):\n",
    "    return (mats - np.min(mats, axis=0)) / (np.max(mats, axis=0) - np.min(mats, axis=0))"
   ]
  },
  {
   "cell_type": "code",
   "execution_count": 62,
   "metadata": {},
   "outputs": [],
   "source": [
    "root = os.getcwd()\n",
    "paths = [root + \"/20190822\", root + \"/20190823\"]\n",
    "mat_objs = open_files(paths)"
   ]
  },
  {
   "cell_type": "code",
   "execution_count": 63,
   "metadata": {},
   "outputs": [
    {
     "name": "stdout",
     "output_type": "stream",
     "text": [
      "---- Collected Mat_objects ----\n"
     ]
    }
   ],
   "source": [
    "y_ids, y, voc_data = collect(mat_objs)\n",
    "y_set = set(y)\n",
    "hashed_y = {}\n",
    "for i, val in enumerate(y_set):\n",
    "    hashed_y[val] = i\n",
    "y = np.vectorize(hashed_y.get)(y)"
   ]
  },
  {
   "cell_type": "code",
   "execution_count": 64,
   "metadata": {},
   "outputs": [
    {
     "name": "stdout",
     "output_type": "stream",
     "text": [
      "[[0.00845945 0.01315996 0.00565112 ... 0.00743341 0.00600349 0.01320907]\n",
      " [0.02242059 0.03747246 0.0254917  ... 0.01753231 0.00904729 0.01588403]\n",
      " [0.03774091 0.03913251 0.03237282 ... 0.00493552 0.00445932 0.00454248]\n",
      " ...\n",
      " [0.01002398 0.00790863 0.05294361 ... 0.05008099 0.07544024 0.06846885]\n",
      " [0.01160779 0.0184358  0.03001725 ... 0.0159727  0.00825842 0.02236729]\n",
      " [0.01374481 0.02262673 0.01228261 ... 0.02941353 0.01170166 0.01577833]]\n"
     ]
    }
   ],
   "source": [
    "print(voc_data)"
   ]
  },
  {
   "cell_type": "code",
   "execution_count": 65,
   "metadata": {},
   "outputs": [
    {
     "name": "stdout",
     "output_type": "stream",
     "text": [
      "---- Collected MPS sounds ----\n"
     ]
    }
   ],
   "source": [
    "voc_data_mps = collect_data_mps(mat_objs)\n",
    "\n",
    "hover_data = pd.DataFrame({'index':np.arange(414),\n",
    "                           'label':y})\n",
    "hover_data['batID'] = hover_data.label.map(\n",
    "    {0: '14644', 1: '71284', 2: '14647', 3: '65704', 4: '65706'}\n",
    ")\n",
    "\n",
    "iph = hover_data.to_dict()\n",
    "dict_idx = list(iph['index'].values())\n",
    "iph['index'] = dict_idx\n",
    "dict_lbl = list(iph['label'].values())\n",
    "iph['label'] = dict_lbl\n",
    "dict_batID = list(iph['batID'].values())\n",
    "iph['batID'] = dict_batID\n",
    "iph_pd = pd.DataFrame.from_dict(iph)"
   ]
  },
  {
   "cell_type": "code",
   "execution_count": 66,
   "metadata": {},
   "outputs": [],
   "source": [
    "def spec_colormap():\n",
    "# Makes the colormap that we like for spectrograms\n",
    "\n",
    "    cmap = np.zeros((64,3))\n",
    "    cmap[0,2] = 1.0\n",
    "\n",
    "    for ib in range(21):\n",
    "        cmap[ib+1,0] = (31.0+ib*(12.0/20.0))/60.0\n",
    "        cmap[ib+1,1] = (ib+1.0)/21.0\n",
    "        cmap[ib+1,2] = 1.0\n",
    "\n",
    "    for ig in range(21):\n",
    "        cmap[ig+ib+1,0] = (21.0-(ig)*(12.0/20.0))/60.0\n",
    "        cmap[ig+ib+1,1] = 1.0\n",
    "        cmap[ig+ib+1,2] = 0.5+(ig)*(0.3/20.0)\n",
    "\n",
    "    for ir in range(21):\n",
    "        cmap[ir+ig+ib+1,0] = (8.0-(ir)*(7.0/20.0))/60.0\n",
    "        cmap[ir+ig+ib+1,1] = 0.5 + (ir)*(0.5/20.0)\n",
    "        cmap[ir+ig+ib+1,2] = 1\n",
    "\n",
    "    for ic in range(64):\n",
    "        (cmap[ic,0], cmap[ic,1], cmap[ic,2]) = colorsys.hsv_to_rgb(cmap[ic,0], cmap[ic,1], cmap[ic,2])\n",
    "    \n",
    "    spec_cmap = pltcolors.ListedColormap(cmap, name=u'SpectroColorMap', N=64)\n",
    "    plt.register_cmap(cmap=spec_cmap)\n",
    "\n",
    "def plot_spectro(t, freq, spec, ax=None, ticks=True, fmin=None, fmax=None, colormap=None, colorbar=True, log = True, dBNoise = 50):\n",
    "            if colormap == None:\n",
    "                spec_colormap()\n",
    "                colormap = plt.get_cmap('SpectroColorMap')\n",
    "\n",
    "            if ax is None:\n",
    "                ax = plt.gca()\n",
    "\n",
    "            if fmin is None:\n",
    "                fmin = freq.min()\n",
    "            if fmax is None:\n",
    "                fmax = freq.max()\n",
    "\n",
    "            ex = (t.min(), t.max(), freq.min(), freq.max())\n",
    "            plotSpect = np.abs(spec)\n",
    "\n",
    "\n",
    "            if log == True and dBNoise is not None:\n",
    "                plotSpect = 20*np.log10(plotSpect)\n",
    "                maxB = plotSpect.max()\n",
    "                minB = maxB-dBNoise\n",
    "            else:\n",
    "                if dBNoise is not None:\n",
    "                    maxB = 20*np.log10(plotSpect.max())\n",
    "                    minB = ((maxB-dBNoise)/20.0)**10\n",
    "                else:\n",
    "                    maxB = plotSpect.max()\n",
    "                    minB = plotSpect.min()\n",
    "\n",
    "            plotSpect[plotSpect < minB] = minB\n",
    "\n",
    "            return ax, ex, colormap, minB, maxB, plotSpect, fmin, fmax, ticks, colorbar\n",
    "        \n",
    "def plot_spectrom(ind, ax=None):\n",
    "    spectro = bioSound_objs_list[ind].spectro/20\n",
    "    spectro = 10**(spectro)\n",
    "    return plot_spectro(bioSound_objs_list[ind].to, bioSound_objs_list[ind].fo, spectro, ax=ax, dBNoise=60)\n",
    "\n",
    "\n",
    "# Could try to increase number components\n",
    "def interactive_plot(n_neighbors=10, min_dist=0.1, n_components=2, metric='euclidean', title='', ax=None):\n",
    "    fit = umap.UMAP(\n",
    "        n_neighbors=n_neighbors,\n",
    "        min_dist=min_dist,\n",
    "        n_components=n_components,\n",
    "        metric=metric\n",
    "    )\n",
    "    u = fit.fit_transform(voc_data);\n",
    "\n",
    "    f = go.FigureWidget([go.Scatter(\n",
    "        x=u[:,0], \n",
    "        y=u[:,1], \n",
    "        mode='markers',\n",
    "        customdata=iph_pd[['index', 'label', 'batID']],\n",
    "        hovertemplate = \"<br>\".join([\"index: %{customdata[0]}\", \n",
    "                                     \"label: %{customdata[1]}\",\n",
    "                                     \"batID: %{customdata[2]}<extra></extra>\"])\n",
    "    )])\n",
    "    scatter = f.data[0]\n",
    "    scatter.marker.color = y\n",
    "#     print(len(y), y)\n",
    "    f.layout.hovermode = 'closest'\n",
    "    Audio(bioSound_objs_list[0].sound, rate=bioSound_objs_list[0].samprate, autoplay=True)\n",
    "    plt.ion()\n",
    "    ax = None\n",
    "    iax = None\n",
    "    out = Output()\n",
    "    display(out)\n",
    "    \n",
    "    def update_point(trace, points, selector):\n",
    "        nonlocal ax\n",
    "        nonlocal iax\n",
    "        nonlocal out\n",
    "        for i in points.point_inds:\n",
    "            if iax != None:\n",
    "                with out:\n",
    "                    clear_output(wait=True)\n",
    "            if ax == None:\n",
    "                ax, ex, colormap, minB, maxB, plotSpect, fmin, fmax, ticks, colorbar = plot_spectrom(i, ax)\n",
    "                with out:\n",
    "                    iax = ax.imshow(plotSpect, aspect='auto', interpolation='nearest', origin='lower', extent=ex, cmap=colormap, vmin=minB, vmax=maxB)\n",
    "                    ax.set_ylim(fmin, fmax)\n",
    "                    if not ticks:\n",
    "                        ax.set_xticks([])\n",
    "                        ax.set_yticks([])\n",
    "                    else:\n",
    "                        ax.set_ylabel('Frequency (Hz)')\n",
    "                        ax.set_xlabel('Time (s)')\n",
    "\n",
    "                    if colorbar:\n",
    "                        plt.colorbar(iax)\n",
    "                    play_audio(i)\n",
    "            else:\n",
    "                ax, ex, colormap, minB, maxB, plotSpect, fmin, fmax, ticks, colorbar = plot_spectrom(i, ax)\n",
    "                with out:\n",
    "                    iax = ax.imshow(plotSpect, aspect='auto', interpolation='nearest', origin='lower', extent=ex, cmap=colormap, vmin=minB, vmax=maxB)\n",
    "                    plt.sca(ax)\n",
    "                    plt.show()\n",
    "                    play_audio(i)\n",
    "    scatter.on_click(update_point)\n",
    "    \n",
    "    return f\n",
    "\n",
    "def collect_bioSound_objs(files=None, mat_objs=None, y=y):\n",
    "    if files:\n",
    "        root = os.getcwd()\n",
    "        files = files if isinstance(files, list) else [files]\n",
    "        paths = [root + file for file in files]\n",
    "        mat_objs = open_files(paths)\n",
    "        y_ids, y, voc_data = collect(mat_objs)\n",
    "        y_set = set(y)\n",
    "        hashed_y = {}\n",
    "        for i, val in enumerate(y_set):\n",
    "            hashed_y[val] = i\n",
    "        y = np.vectorize(hashed_y.get)(y)\n",
    "    collected_data = []\n",
    "    for mat_obj in mat_objs:\n",
    "        if 'BioSoundCalls' not in mat_obj.keys():\n",
    "            continue\n",
    "        specs = mat_obj['BioSoundCalls']\n",
    "        if len(specs) > 0 and not isinstance(specs[0], np.ndarray):\n",
    "            specs = [specs]\n",
    "        for row in specs:\n",
    "            if row[0] != [] and 'mps' in row[0]._fieldnames:\n",
    "                collected_data.append(row[0])\n",
    "    print(\"---- Collected Biosound Objects ----\")\n",
    "    return collected_data, y\n",
    "\n",
    "def play_audio(index):\n",
    "#      sound > 100 --> pad zeros (np.pad)\n",
    "    sound = bioSound_objs_list[index].sound - np.mean(bioSound_objs_list[index].sound)\n",
    "    sound = sound / np.std(bioSound_objs_list[index].sound)\n",
    "    display(Audio(sound, rate=bioSound_objs_list[index].samprate, autoplay=True))"
   ]
  },
  {
   "cell_type": "code",
   "execution_count": 67,
   "metadata": {},
   "outputs": [
    {
     "name": "stdout",
     "output_type": "stream",
     "text": [
      "---- Collected Biosound Objects ----\n"
     ]
    },
    {
     "name": "stderr",
     "output_type": "stream",
     "text": [
      "/Applications/anaconda3/lib/python3.6/site-packages/ipykernel_launcher.py:149: DeprecationWarning:\n",
      "\n",
      "The truth value of an empty array is ambiguous. Returning False, but in future this will result in an error. Use `array.size > 0` to check that an array is not empty.\n",
      "\n"
     ]
    }
   ],
   "source": [
    "bioSound_objs_list, y = collect_bioSound_objs(mat_objs=mat_objs, y=y)"
   ]
  },
  {
   "cell_type": "code",
   "execution_count": 68,
   "metadata": {},
   "outputs": [
    {
     "name": "stdout",
     "output_type": "stream",
     "text": [
      "414\n"
     ]
    }
   ],
   "source": [
    "print(len(bioSound_objs_list))"
   ]
  },
  {
   "cell_type": "code",
   "execution_count": 69,
   "metadata": {
    "scrolled": false
   },
   "outputs": [
    {
     "data": {
      "application/vnd.jupyter.widget-view+json": {
       "model_id": "da4555a4ac3d4b08a935686993b47db3",
       "version_major": 2,
       "version_minor": 0
      },
      "text/plain": [
       "Output()"
      ]
     },
     "metadata": {},
     "output_type": "display_data"
    },
    {
     "data": {
      "application/vnd.jupyter.widget-view+json": {
       "model_id": "8670f37aaca44281ba01ca54ad68902f",
       "version_major": 2,
       "version_minor": 0
      },
      "text/plain": [
       "FigureWidget({\n",
       "    'data': [{'customdata': array([[0, 0, '14644'],\n",
       "                                   [1, 0, '…"
      ]
     },
     "metadata": {},
     "output_type": "display_data"
    },
    {
     "data": {
      "image/png": "[encoded data removed]",
      "text/plain": [
       "<Figure size 432x288 with 2 Axes>"
      ]
     },
     "metadata": {
      "needs_background": "light"
     },
     "output_type": "display_data"
    }
   ],
   "source": [
    "f = interactive_plot()\n",
    "f"
   ]
  },
  {
   "cell_type": "code",
   "execution_count": null,
   "metadata": {},
   "outputs": [],
   "source": []
  }
 ],
 "metadata": {
  "kernelspec": {
   "display_name": "Python 3",
   "language": "python",
   "name": "python3"
  },
  "language_info": {
   "codemirror_mode": {
    "name": "ipython",
    "version": 3
   },
   "file_extension": ".py",
   "mimetype": "text/x-python",
   "name": "python",
   "nbconvert_exporter": "python",
   "pygments_lexer": "ipython3",
   "version": "3.6.12"
  }
 },
 "nbformat": 4,
 "nbformat_minor": 4
}
